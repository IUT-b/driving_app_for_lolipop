{
 "cells": [
  {
   "cell_type": "code",
   "execution_count": 13,
   "id": "7f7949b1-0a0c-4f1f-bf1c-e16f43fa1075",
   "metadata": {},
   "outputs": [],
   "source": [
    "import os\n",
    "import youtube_dl"
   ]
  },
  {
   "cell_type": "code",
   "execution_count": 28,
   "id": "f25edd47-a870-4647-8357-3db2f7c1bcef",
   "metadata": {},
   "outputs": [],
   "source": [
    "url=\"https://www.youtube.com/watch?v=e-ORhEE9VVg\""
   ]
  },
  {
   "cell_type": "code",
   "execution_count": 23,
   "id": "f3fa0218-c579-4d09-9fd8-d3acdbb130f0",
   "metadata": {},
   "outputs": [],
   "source": [
    "url=\"https://www.youtube.com/watch?v=FuXNumBwDOM\""
   ]
  },
  {
   "cell_type": "code",
   "execution_count": 16,
   "id": "56d11ec3-15d9-410c-9b14-cfebd395f81c",
   "metadata": {},
   "outputs": [],
   "source": [
    "music_path = \"ytmusic.mp3\""
   ]
  },
  {
   "cell_type": "code",
   "execution_count": 29,
   "id": "f499e6c8-7579-45e6-9dfe-00abb4717a8d",
   "metadata": {},
   "outputs": [
    {
     "name": "stdout",
     "output_type": "stream",
     "text": [
      "[youtube] e-ORhEE9VVg: Downloading webpage\n",
      "[download] Destination: ytmusic.mp3\n",
      "[download] 100% of 4.21MiB in 01:25                 \n",
      "[ffmpeg] Correcting container in \"ytmusic.mp3\"\n",
      "[ffmpeg] Post-process file ytmusic.mp3 exists, skipping\n"
     ]
    }
   ],
   "source": [
    "ydl_opts = {\n",
    "    \"format\": \"bestaudio/best\",\n",
    "    \"postprocessors\": [\n",
    "        {\n",
    "            \"key\": \"FFmpegExtractAudio\",\n",
    "            \"preferredcodec\": \"mp3\",\n",
    "            \"preferredquality\": \"192\",\n",
    "        }\n",
    "    ],\n",
    "    \"outtmpl\": \"./\" + music_path,\n",
    "}\n",
    "with youtube_dl.YoutubeDL(ydl_opts) as ydl:\n",
    "    ydl.download([url])"
   ]
  },
  {
   "cell_type": "code",
   "execution_count": 27,
   "id": "56799bb2-7a6c-419a-bb44-8d6acfe33165",
   "metadata": {},
   "outputs": [],
   "source": [
    "os.remove(music_path)"
   ]
  },
  {
   "cell_type": "code",
   "execution_count": null,
   "id": "8c6f8827-a4bc-4c82-b211-edee0a8e2a48",
   "metadata": {},
   "outputs": [],
   "source": []
  }
 ],
 "metadata": {
  "kernelspec": {
   "display_name": "Python 3 (ipykernel)",
   "language": "python",
   "name": "python3"
  },
  "language_info": {
   "codemirror_mode": {
    "name": "ipython",
    "version": 3
   },
   "file_extension": ".py",
   "mimetype": "text/x-python",
   "name": "python",
   "nbconvert_exporter": "python",
   "pygments_lexer": "ipython3",
   "version": "3.10.1"
  }
 },
 "nbformat": 4,
 "nbformat_minor": 5
}
